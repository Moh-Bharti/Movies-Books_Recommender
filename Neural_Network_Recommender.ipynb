{
  "nbformat": 4,
  "nbformat_minor": 0,
  "metadata": {
    "colab": {
      "name": "Neural_Network_Recommender.ipynb",
      "provenance": [],
      "include_colab_link": true
    },
    "kernelspec": {
      "name": "python3",
      "display_name": "Python 3"
    }
  },
  "cells": [
    {
      "cell_type": "markdown",
      "metadata": {
        "id": "view-in-github",
        "colab_type": "text"
      },
      "source": [
        "<a href=\"https://colab.research.google.com/github/Moh-Bharti/ML_PROJECT/blob/master/Neural_Network_Recommender.ipynb\" target=\"_parent\"><img src=\"https://colab.research.google.com/assets/colab-badge.svg\" alt=\"Open In Colab\"/></a>"
      ]
    },
    {
      "cell_type": "code",
      "metadata": {
        "id": "O0qDtlTrIlL9",
        "colab_type": "code",
        "colab": {}
      },
      "source": [
        "import torch\n",
        "\n",
        "\n",
        "movie=\"../input/movies_metadata.csv\""
      ],
      "execution_count": 0,
      "outputs": []
    },
    {
      "cell_type": "code",
      "metadata": {
        "id": "etGI4thWGYvR",
        "colab_type": "code",
        "colab": {}
      },
      "source": [
        "from google.colab import drive\n",
        "drive.mount('/content/drive')"
      ],
      "execution_count": 0,
      "outputs": []
    },
    {
      "cell_type": "code",
      "metadata": {
        "id": "9ufsf5AYjAwk",
        "colab_type": "code",
        "colab": {}
      },
      "source": [
        "def info(filename):\n",
        "    arr = pd.read_csv(filename).to_numpy()\n",
        "    id = arr[:, 5]\n",
        "    title = arr[:, 8]\n",
        "    pop = arr[:, 10]\n",
        "    year = arr[:, 14]\n",
        "    year1 = np.zeros((len(year),1))\n",
        "    for i in range(len(year)):\n",
        "\n",
        "        year1[i] = int(year[i][-4:])\n",
        "    rtime = arr[:, 16]\n",
        "    ad = arr[:,0]\n",
        "\n",
        "    return ad,id,title,pop,year1,rtime"
      ],
      "execution_count": 0,
      "outputs": []
    },
    {
      "cell_type": "code",
      "metadata": {
        "id": "4gED2L2XjMNQ",
        "colab_type": "code",
        "colab": {}
      },
      "source": [
        "def parser1(filename):\n",
        "    arr = pd.read_csv(filename).to_numpy()\n",
        "    genre = arr[:,3]\n",
        "    genre_json=(pd.DataFrame(genre).values)\n",
        "    genre_movie=genre_parser(genre_json)\n",
        "\n",
        "    #genre_dict=json.loads(genre_json)\n",
        "\n",
        "    rating = arr[:,22]\n",
        "    array = rating_calc(rating)\n",
        "    return array,genre_movie\n",
        "\n"
      ],
      "execution_count": 0,
      "outputs": []
    },
    {
      "cell_type": "code",
      "metadata": {
        "id": "4D-03pE-kUoJ",
        "colab_type": "code",
        "colab": {}
      },
      "source": [
        ""
      ],
      "execution_count": 0,
      "outputs": []
    },
    {
      "cell_type": "code",
      "metadata": {
        "id": "M2kV7UgSjY0-",
        "colab_type": "code",
        "colab": {}
      },
      "source": [
        "def genre_parser(string):\n",
        "    n = len(string)\n",
        "    arr = np.zeros((n,17))\n",
        "\n",
        "    for i in range(len(string)):\n",
        "        text = string[i][0]\n",
        "        dict = re.split('[{,}]\\s',text[1:len(text)-1])\n",
        "        for j in range(len(dict)//2):\n",
        "            a = dict[2*j+1]\n",
        "            a = a[9:len(a)-2]\n",
        "            if a=='Action':\n",
        "                arr[i,0]=1\n",
        "            elif a=='Adventure':\n",
        "                arr[i,1]=1\n",
        "            elif a=='Animation':\n",
        "                arr[i,2]=1\n",
        "            elif a=='Comedy':\n",
        "                arr[i,3]=1\n",
        "            elif a=='Crime':\n",
        "                arr[i,4]=1\n",
        "            elif a=='Documentary':\n",
        "                arr[i,5]=1\n",
        "            elif a=='Drama':\n",
        "                arr[i,6]=1\n",
        "            elif a=='Family':\n",
        "                arr[i,7]=1\n",
        "            elif a=='Fantasy':\n",
        "                arr[i,8]=1\n",
        "            elif a=='History':\n",
        "                arr[i,9]=1\n",
        "\n",
        "            elif a=='Horror':\n",
        "                arr[i,10]=1\n",
        "            elif a=='Music':\n",
        "                arr[i,11]=1\n",
        "            elif a=='Mystery':\n",
        "                arr[i,12]=1\n",
        "            elif a=='Romance':\n",
        "                arr[i,13]=1\n",
        "            elif a=='Science Fiction':\n",
        "                arr[i,14]=1\n",
        "            elif a=='Thriller':\n",
        "                arr[i,15]=1\n",
        "            elif a=='War':\n",
        "                arr[i,16]=1\n",
        "    #print(np.shape(arr))\n",
        "    return arr"
      ],
      "execution_count": 0,
      "outputs": []
    },
    {
      "cell_type": "code",
      "metadata": {
        "id": "EANtmFkOjlKg",
        "colab_type": "code",
        "colab": {}
      },
      "source": [
        "def rating_calc(arr):\n",
        "    array = np.empty(np.shape(arr))\n",
        "    rat = np.zeros((11,1))\n",
        "    for i in range(len(arr)):\n",
        "        array[i]=arr[i]/2\n",
        "        if array[i]>=0 and array[i]<0.5:\n",
        "            array[i]=0\n",
        "            rat[0]+=1\n",
        "        elif array[i]>=0.5 and array[i]<1:\n",
        "            array[i]=0.5\n",
        "            rat[1]+=1\n",
        "        elif array[i]>=1 and array[i]<1.5:\n",
        "            array[i]=1\n",
        "            rat[2]+=1\n",
        "        elif array[i]>=1.5 and array[i]<2:\n",
        "            array[i]=1.5\n",
        "            rat[3]+=1\n",
        "        elif array[i]>=2 and array[i]<2.5:\n",
        "            array[i]=2\n",
        "            rat[4]+=1\n",
        "        elif array[i]>=2.5 and array[i]<3:\n",
        "            array[i]=2.5\n",
        "            rat[5]+=1\n",
        "        elif array[i]>=3 and array[i]<3.5:\n",
        "            array[i]=3\n",
        "            rat[6]+=1\n",
        "        elif array[i]>=3.5 and array[i]<4:\n",
        "            array[i]=3.5\n",
        "            rat[7]+=1\n",
        "        elif array[i]>=4 and array[i]<4.5:\n",
        "            array[i]=4\n",
        "            rat[8]+=1\n",
        "        elif array[i]>=4.5 and array[i]<5:\n",
        "            array[i]=4.5\n",
        "            rat[9]+=1\n",
        "        else:\n",
        "            rat[10]+=1\n",
        "            array[i]=5\n",
        "\n",
        "    return array"
      ],
      "execution_count": 0,
      "outputs": []
    },
    {
      "cell_type": "code",
      "metadata": {
        "id": "yXfv7rOOHW5f",
        "colab_type": "code",
        "colab": {}
      },
      "source": [
        "a,r = parser1(movie)\n",
        "print(r)"
      ],
      "execution_count": 0,
      "outputs": []
    }
  ]
}